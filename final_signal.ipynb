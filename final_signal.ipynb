{
  "nbformat": 4,
  "nbformat_minor": 0,
  "metadata": {
    "colab": {
      "provenance": []
    },
    "kernelspec": {
      "name": "python3",
      "display_name": "Python 3"
    },
    "language_info": {
      "name": "python"
    },
    "accelerator": "GPU",
    "gpuClass": "standard"
  },
  "cells": [
    {
      "cell_type": "code",
      "source": [
        "import cv2\n",
        "import os"
      ],
      "metadata": {
        "id": "PvSzLoh_4FJh"
      },
      "execution_count": 32,
      "outputs": []
    },
    {
      "cell_type": "code",
      "source": [
        "import numpy as np \n",
        "import tensorflow as tf \n",
        "import pandas as pd\n",
        "from tensorflow.keras import models, layers\n",
        "import matplotlib.pyplot as plt\n",
        "import warnings\n",
        "warnings.filterwarnings('ignore')\n",
        "from google.colab import files\n",
        "from tensorflow  import keras"
      ],
      "metadata": {
        "id": "HOxdg1Gl4Qv_"
      },
      "execution_count": 33,
      "outputs": []
    },
    {
      "cell_type": "code",
      "source": [
        "from google.colab import drive\n",
        "drive.mount('/content/drive')\n"
      ],
      "metadata": {
        "colab": {
          "base_uri": "https://localhost:8080/"
        },
        "id": "u4U4lDka4ucV",
        "outputId": "ef55e0fa-1a32-441c-95e0-f992b6525e16"
      },
      "execution_count": 34,
      "outputs": [
        {
          "output_type": "stream",
          "name": "stdout",
          "text": [
            "Drive already mounted at /content/drive; to attempt to forcibly remount, call drive.mount(\"/content/drive\", force_remount=True).\n"
          ]
        }
      ]
    },
    {
      "cell_type": "code",
      "source": [
        "import numpy as np \n",
        "import tensorflow as tf \n",
        "import pandas as pd\n",
        "from tensorflow.keras import models, layers\n",
        "import matplotlib.pyplot as plt\n",
        "import warnings\n",
        "warnings.filterwarnings('ignore')\n",
        "from google.colab import files\n",
        "from tensorflow  import keras"
      ],
      "metadata": {
        "id": "04tHtNj84Kj4"
      },
      "execution_count": 35,
      "outputs": []
    },
    {
      "cell_type": "code",
      "source": [
        "train = keras.preprocessing.image_dataset_from_directory(\n",
        "    '/content/drive/My Drive/data1/train',\n",
        "    labels='inferred',\n",
        "    label_mode='categorical',\n",
        "    batch_size=32,\n",
        "    image_size=(256,256))\n",
        " \n",
        "\n",
        "test = keras.preprocessing.image_dataset_from_directory(\n",
        "     '/content/drive/My Drive/data1/test',\n",
        "    labels='inferred',\n",
        "    label_mode='categorical',\n",
        "    batch_size=32,\n",
        "    image_size=(256,256))\n",
        "validation= keras.preprocessing.image_dataset_from_directory(\n",
        "     '/content/drive/My Drive/data1/val',\n",
        "    labels='inferred',\n",
        "    label_mode='categorical',\n",
        "    batch_size=32,\n",
        "    image_size=(256,256))\n"
      ],
      "metadata": {
        "colab": {
          "base_uri": "https://localhost:8080/"
        },
        "id": "VypLEuUV4YbD",
        "outputId": "51493419-f49e-408f-ac65-0f3e5c96f946"
      },
      "execution_count": 36,
      "outputs": [
        {
          "output_type": "stream",
          "name": "stdout",
          "text": [
            "Found 2258 files belonging to 5 classes.\n",
            "Found 589 files belonging to 5 classes.\n",
            "Found 122 files belonging to 5 classes.\n"
          ]
        }
      ]
    },
    {
      "cell_type": "code",
      "source": [
        "def squeeze_excite_block(filters,input):                      \n",
        "    se = tf.keras.layers.GlobalAveragePooling2D()(input)\n",
        "    se = tf.keras.layers.Reshape((1, filters))(se) \n",
        "    se = tf.keras.layers.Dense(filters//16, activation='relu')(se)\n",
        "    se = tf.keras.layers.Dense(filters, activation='sigmoid')(se)\n",
        "    se = tf.keras.layers.multiply([input, se])\n",
        "    return se\n",
        "    "
      ],
      "metadata": {
        "id": "IxQS4MzI43Kq"
      },
      "execution_count": 37,
      "outputs": []
    },
    {
      "cell_type": "code",
      "source": [
        "\n",
        "def make_model():\n",
        "        s = tf.keras.Input(((256, 256,3))) \n",
        "        x = tf.keras.layers.Conv2D(32,(3,3),activation='relu',padding='same')(s)\n",
        "        x = tf.keras.layers.Conv2D(32,(3,3),activation='relu',padding='same')(x)\n",
        "        x = tf.keras.layers.Conv2D(32,(3,3),activation='relu',padding='same')(x)\n",
        "        x = tf.keras.layers.BatchNormalization()(x)\n",
        "        x = squeeze_excite_block(32,x)\n",
        "\n",
        "        x = tf.keras.layers.Conv2D(32,(3,3),activation='relu',padding='same')(x)\n",
        "        x = tf.keras.layers.Conv2D(32,(3,3),activation='relu',padding='same')(x)\n",
        "        x = tf.keras.layers.Conv2D(32,(3,3),activation='relu',padding='same')(x)\n",
        "        x = tf.keras.layers.BatchNormalization()(x)\n",
        "        x = squeeze_excite_block(32,x)\n",
        "        x = tf.keras.layers.AveragePooling2D(2)(x)\n",
        "\n",
        "        x = tf.keras.layers.Conv2D(32,(3,3),activation='relu',padding='same')(x)\n",
        "        x = tf.keras.layers.Conv2D(32,(3,3),activation='relu',padding='same')(x)\n",
        "        x = tf.keras.layers.Conv2D(32,(3,3),activation='relu',padding='same')(x)\n",
        "        x = tf.keras.layers.BatchNormalization()(x)\n",
        "        x = squeeze_excite_block(32,x)\n",
        "        x = tf.keras.layers.AveragePooling2D(2)(x)        \n",
        "\n",
        "\n",
        "        x = tf.keras.layers.Conv2D(32,(3,3),activation='relu',padding='same')(x)\n",
        "        x = tf.keras.layers.Conv2D(32,(3,3),activation='relu',padding='same')(x)\n",
        "        x = tf.keras.layers.Conv2D(32,(3,3),activation='relu',padding='same')(x)\n",
        "        x = tf.keras.layers.BatchNormalization()(x)\n",
        "        x = squeeze_excite_block(32,x)\n",
        "        x = tf.keras.layers.AveragePooling2D(2)(x)\n",
        "\n",
        "\n",
        "        x = tf.keras.layers.concatenate([tf.keras.layers.GlobalMaxPooling2D()(x),\n",
        "                                         tf.keras.layers.GlobalAveragePooling2D()(x)])\n",
        "\n",
        "        x = tf.keras.layers.Dense(5,activation='softmax',use_bias=False,\n",
        "                                  kernel_regularizer=tf.keras.regularizers.l1(0.00025))(x)\n",
        "        return tf.keras.Model(inputs=s, outputs=x)\n",
        "\n",
        "\n"
      ],
      "metadata": {
        "id": "WWz95c2p464x"
      },
      "execution_count": 38,
      "outputs": []
    },
    {
      "cell_type": "code",
      "source": [
        "from tensorflow.keras import optimizers\n",
        "model=make_model()                \n",
        "model.compile(optimizer=optimizers.Adam(lr=0.0001), loss='categorical_crossentropy',metrics=['accuracy'])\n",
        "model.summary()"
      ],
      "metadata": {
        "colab": {
          "base_uri": "https://localhost:8080/"
        },
        "id": "F9jCYsSO4-03",
        "outputId": "2ac9bb99-4d51-45a5-cab1-4799a83b929a"
      },
      "execution_count": 39,
      "outputs": [
        {
          "output_type": "stream",
          "name": "stdout",
          "text": [
            "Model: \"model_1\"\n",
            "__________________________________________________________________________________________________\n",
            " Layer (type)                   Output Shape         Param #     Connected to                     \n",
            "==================================================================================================\n",
            " input_2 (InputLayer)           [(None, 256, 256, 3  0           []                               \n",
            "                                )]                                                                \n",
            "                                                                                                  \n",
            " conv2d_12 (Conv2D)             (None, 256, 256, 32  896         ['input_2[0][0]']                \n",
            "                                )                                                                 \n",
            "                                                                                                  \n",
            " conv2d_13 (Conv2D)             (None, 256, 256, 32  9248        ['conv2d_12[0][0]']              \n",
            "                                )                                                                 \n",
            "                                                                                                  \n",
            " conv2d_14 (Conv2D)             (None, 256, 256, 32  9248        ['conv2d_13[0][0]']              \n",
            "                                )                                                                 \n",
            "                                                                                                  \n",
            " batch_normalization_4 (BatchNo  (None, 256, 256, 32  128        ['conv2d_14[0][0]']              \n",
            " rmalization)                   )                                                                 \n",
            "                                                                                                  \n",
            " global_average_pooling2d_5 (Gl  (None, 32)          0           ['batch_normalization_4[0][0]']  \n",
            " obalAveragePooling2D)                                                                            \n",
            "                                                                                                  \n",
            " reshape_4 (Reshape)            (None, 1, 32)        0           ['global_average_pooling2d_5[0][0\n",
            "                                                                 ]']                              \n",
            "                                                                                                  \n",
            " dense_9 (Dense)                (None, 1, 2)         66          ['reshape_4[0][0]']              \n",
            "                                                                                                  \n",
            " dense_10 (Dense)               (None, 1, 32)        96          ['dense_9[0][0]']                \n",
            "                                                                                                  \n",
            " multiply_4 (Multiply)          (None, 256, 256, 32  0           ['batch_normalization_4[0][0]',  \n",
            "                                )                                 'dense_10[0][0]']               \n",
            "                                                                                                  \n",
            " conv2d_15 (Conv2D)             (None, 256, 256, 32  9248        ['multiply_4[0][0]']             \n",
            "                                )                                                                 \n",
            "                                                                                                  \n",
            " conv2d_16 (Conv2D)             (None, 256, 256, 32  9248        ['conv2d_15[0][0]']              \n",
            "                                )                                                                 \n",
            "                                                                                                  \n",
            " conv2d_17 (Conv2D)             (None, 256, 256, 32  9248        ['conv2d_16[0][0]']              \n",
            "                                )                                                                 \n",
            "                                                                                                  \n",
            " batch_normalization_5 (BatchNo  (None, 256, 256, 32  128        ['conv2d_17[0][0]']              \n",
            " rmalization)                   )                                                                 \n",
            "                                                                                                  \n",
            " global_average_pooling2d_6 (Gl  (None, 32)          0           ['batch_normalization_5[0][0]']  \n",
            " obalAveragePooling2D)                                                                            \n",
            "                                                                                                  \n",
            " reshape_5 (Reshape)            (None, 1, 32)        0           ['global_average_pooling2d_6[0][0\n",
            "                                                                 ]']                              \n",
            "                                                                                                  \n",
            " dense_11 (Dense)               (None, 1, 2)         66          ['reshape_5[0][0]']              \n",
            "                                                                                                  \n",
            " dense_12 (Dense)               (None, 1, 32)        96          ['dense_11[0][0]']               \n",
            "                                                                                                  \n",
            " multiply_5 (Multiply)          (None, 256, 256, 32  0           ['batch_normalization_5[0][0]',  \n",
            "                                )                                 'dense_12[0][0]']               \n",
            "                                                                                                  \n",
            " average_pooling2d_3 (AveragePo  (None, 128, 128, 32  0          ['multiply_5[0][0]']             \n",
            " oling2D)                       )                                                                 \n",
            "                                                                                                  \n",
            " conv2d_18 (Conv2D)             (None, 128, 128, 32  9248        ['average_pooling2d_3[0][0]']    \n",
            "                                )                                                                 \n",
            "                                                                                                  \n",
            " conv2d_19 (Conv2D)             (None, 128, 128, 32  9248        ['conv2d_18[0][0]']              \n",
            "                                )                                                                 \n",
            "                                                                                                  \n",
            " conv2d_20 (Conv2D)             (None, 128, 128, 32  9248        ['conv2d_19[0][0]']              \n",
            "                                )                                                                 \n",
            "                                                                                                  \n",
            " batch_normalization_6 (BatchNo  (None, 128, 128, 32  128        ['conv2d_20[0][0]']              \n",
            " rmalization)                   )                                                                 \n",
            "                                                                                                  \n",
            " global_average_pooling2d_7 (Gl  (None, 32)          0           ['batch_normalization_6[0][0]']  \n",
            " obalAveragePooling2D)                                                                            \n",
            "                                                                                                  \n",
            " reshape_6 (Reshape)            (None, 1, 32)        0           ['global_average_pooling2d_7[0][0\n",
            "                                                                 ]']                              \n",
            "                                                                                                  \n",
            " dense_13 (Dense)               (None, 1, 2)         66          ['reshape_6[0][0]']              \n",
            "                                                                                                  \n",
            " dense_14 (Dense)               (None, 1, 32)        96          ['dense_13[0][0]']               \n",
            "                                                                                                  \n",
            " multiply_6 (Multiply)          (None, 128, 128, 32  0           ['batch_normalization_6[0][0]',  \n",
            "                                )                                 'dense_14[0][0]']               \n",
            "                                                                                                  \n",
            " average_pooling2d_4 (AveragePo  (None, 64, 64, 32)  0           ['multiply_6[0][0]']             \n",
            " oling2D)                                                                                         \n",
            "                                                                                                  \n",
            " conv2d_21 (Conv2D)             (None, 64, 64, 32)   9248        ['average_pooling2d_4[0][0]']    \n",
            "                                                                                                  \n",
            " conv2d_22 (Conv2D)             (None, 64, 64, 32)   9248        ['conv2d_21[0][0]']              \n",
            "                                                                                                  \n",
            " conv2d_23 (Conv2D)             (None, 64, 64, 32)   9248        ['conv2d_22[0][0]']              \n",
            "                                                                                                  \n",
            " batch_normalization_7 (BatchNo  (None, 64, 64, 32)  128         ['conv2d_23[0][0]']              \n",
            " rmalization)                                                                                     \n",
            "                                                                                                  \n",
            " global_average_pooling2d_8 (Gl  (None, 32)          0           ['batch_normalization_7[0][0]']  \n",
            " obalAveragePooling2D)                                                                            \n",
            "                                                                                                  \n",
            " reshape_7 (Reshape)            (None, 1, 32)        0           ['global_average_pooling2d_8[0][0\n",
            "                                                                 ]']                              \n",
            "                                                                                                  \n",
            " dense_15 (Dense)               (None, 1, 2)         66          ['reshape_7[0][0]']              \n",
            "                                                                                                  \n",
            " dense_16 (Dense)               (None, 1, 32)        96          ['dense_15[0][0]']               \n",
            "                                                                                                  \n",
            " multiply_7 (Multiply)          (None, 64, 64, 32)   0           ['batch_normalization_7[0][0]',  \n",
            "                                                                  'dense_16[0][0]']               \n",
            "                                                                                                  \n",
            " average_pooling2d_5 (AveragePo  (None, 32, 32, 32)  0           ['multiply_7[0][0]']             \n",
            " oling2D)                                                                                         \n",
            "                                                                                                  \n",
            " global_max_pooling2d_1 (Global  (None, 32)          0           ['average_pooling2d_5[0][0]']    \n",
            " MaxPooling2D)                                                                                    \n",
            "                                                                                                  \n",
            " global_average_pooling2d_9 (Gl  (None, 32)          0           ['average_pooling2d_5[0][0]']    \n",
            " obalAveragePooling2D)                                                                            \n",
            "                                                                                                  \n",
            " concatenate_1 (Concatenate)    (None, 64)           0           ['global_max_pooling2d_1[0][0]', \n",
            "                                                                  'global_average_pooling2d_9[0][0\n",
            "                                                                 ]']                              \n",
            "                                                                                                  \n",
            " dense_17 (Dense)               (None, 5)            320         ['concatenate_1[0][0]']          \n",
            "                                                                                                  \n",
            "==================================================================================================\n",
            "Total params: 104,104\n",
            "Trainable params: 103,848\n",
            "Non-trainable params: 256\n",
            "__________________________________________________________________________________________________\n"
          ]
        }
      ]
    },
    {
      "cell_type": "code",
      "source": [
        "model.fit(train,validation_data=validation,epochs=32) "
      ],
      "metadata": {
        "colab": {
          "base_uri": "https://localhost:8080/"
        },
        "id": "xpmxvHgH5A_W",
        "outputId": "9e7d3aa7-8cd6-4342-c749-16842fbd57b2"
      },
      "execution_count": 50,
      "outputs": [
        {
          "output_type": "stream",
          "name": "stdout",
          "text": [
            "Epoch 1/32\n",
            "71/71 [==============================] - 32s 447ms/step - loss: 0.0523 - accuracy: 0.9863 - val_loss: 1.6208 - val_accuracy: 0.6885\n",
            "Epoch 2/32\n",
            "71/71 [==============================] - 33s 454ms/step - loss: 0.0282 - accuracy: 0.9942 - val_loss: 0.1616 - val_accuracy: 0.9508\n",
            "Epoch 3/32\n",
            "71/71 [==============================] - 32s 448ms/step - loss: 0.0808 - accuracy: 0.9734 - val_loss: 2.2680 - val_accuracy: 0.5656\n",
            "Epoch 4/32\n",
            "71/71 [==============================] - 32s 450ms/step - loss: 0.0348 - accuracy: 0.9942 - val_loss: 0.6045 - val_accuracy: 0.7869\n",
            "Epoch 5/32\n",
            "71/71 [==============================] - 32s 450ms/step - loss: 0.0142 - accuracy: 1.0000 - val_loss: 0.1177 - val_accuracy: 0.9590\n",
            "Epoch 6/32\n",
            "71/71 [==============================] - 32s 450ms/step - loss: 0.0119 - accuracy: 1.0000 - val_loss: 0.0891 - val_accuracy: 0.9590\n",
            "Epoch 7/32\n",
            "71/71 [==============================] - 32s 450ms/step - loss: 0.0143 - accuracy: 0.9978 - val_loss: 0.2657 - val_accuracy: 0.9016\n",
            "Epoch 8/32\n",
            "71/71 [==============================] - 32s 450ms/step - loss: 0.0198 - accuracy: 0.9960 - val_loss: 0.2064 - val_accuracy: 0.9262\n",
            "Epoch 9/32\n",
            "71/71 [==============================] - 32s 451ms/step - loss: 0.0146 - accuracy: 0.9982 - val_loss: 0.1556 - val_accuracy: 0.9426\n",
            "Epoch 10/32\n",
            "71/71 [==============================] - 32s 447ms/step - loss: 0.0102 - accuracy: 1.0000 - val_loss: 0.1383 - val_accuracy: 0.9508\n",
            "Epoch 11/32\n",
            "71/71 [==============================] - 32s 451ms/step - loss: 0.0091 - accuracy: 1.0000 - val_loss: 0.1082 - val_accuracy: 0.9508\n",
            "Epoch 12/32\n",
            "71/71 [==============================] - 32s 449ms/step - loss: 0.0086 - accuracy: 1.0000 - val_loss: 0.0935 - val_accuracy: 0.9590\n",
            "Epoch 13/32\n",
            "71/71 [==============================] - 32s 449ms/step - loss: 0.0083 - accuracy: 1.0000 - val_loss: 0.0923 - val_accuracy: 0.9590\n",
            "Epoch 14/32\n",
            "71/71 [==============================] - 33s 452ms/step - loss: 0.0084 - accuracy: 1.0000 - val_loss: 0.1252 - val_accuracy: 0.9590\n",
            "Epoch 15/32\n",
            "71/71 [==============================] - 32s 450ms/step - loss: 0.0084 - accuracy: 1.0000 - val_loss: 0.0952 - val_accuracy: 0.9590\n",
            "Epoch 16/32\n",
            "71/71 [==============================] - 32s 451ms/step - loss: 0.0086 - accuracy: 1.0000 - val_loss: 0.0918 - val_accuracy: 0.9672\n",
            "Epoch 17/32\n",
            "71/71 [==============================] - 32s 447ms/step - loss: 0.0087 - accuracy: 1.0000 - val_loss: 0.1750 - val_accuracy: 0.9344\n",
            "Epoch 18/32\n",
            "71/71 [==============================] - 32s 451ms/step - loss: 0.0083 - accuracy: 1.0000 - val_loss: 0.1367 - val_accuracy: 0.9590\n",
            "Epoch 19/32\n",
            "71/71 [==============================] - 32s 448ms/step - loss: 0.0080 - accuracy: 1.0000 - val_loss: 0.1030 - val_accuracy: 0.9590\n",
            "Epoch 20/32\n",
            "71/71 [==============================] - 32s 450ms/step - loss: 0.0080 - accuracy: 1.0000 - val_loss: 0.1369 - val_accuracy: 0.9508\n",
            "Epoch 21/32\n",
            "71/71 [==============================] - 32s 450ms/step - loss: 0.0078 - accuracy: 1.0000 - val_loss: 0.1285 - val_accuracy: 0.9590\n",
            "Epoch 22/32\n",
            "71/71 [==============================] - 32s 449ms/step - loss: 0.0080 - accuracy: 1.0000 - val_loss: 0.1543 - val_accuracy: 0.9508\n",
            "Epoch 23/32\n",
            "71/71 [==============================] - 32s 450ms/step - loss: 0.0076 - accuracy: 1.0000 - val_loss: 0.1234 - val_accuracy: 0.9590\n",
            "Epoch 24/32\n",
            "71/71 [==============================] - 32s 450ms/step - loss: 0.0792 - accuracy: 0.9765 - val_loss: 0.6744 - val_accuracy: 0.8689\n",
            "Epoch 25/32\n",
            "71/71 [==============================] - 32s 449ms/step - loss: 0.0508 - accuracy: 0.9880 - val_loss: 1.2645 - val_accuracy: 0.6967\n",
            "Epoch 26/32\n",
            "71/71 [==============================] - 32s 448ms/step - loss: 0.0199 - accuracy: 0.9982 - val_loss: 1.0270 - val_accuracy: 0.7459\n",
            "Epoch 27/32\n",
            "71/71 [==============================] - 32s 450ms/step - loss: 0.0174 - accuracy: 0.9973 - val_loss: 0.1291 - val_accuracy: 0.9426\n",
            "Epoch 28/32\n",
            "71/71 [==============================] - 32s 448ms/step - loss: 0.0099 - accuracy: 1.0000 - val_loss: 0.1435 - val_accuracy: 0.9344\n",
            "Epoch 29/32\n",
            "71/71 [==============================] - 32s 450ms/step - loss: 0.0091 - accuracy: 1.0000 - val_loss: 0.1301 - val_accuracy: 0.9508\n",
            "Epoch 30/32\n",
            "71/71 [==============================] - 32s 449ms/step - loss: 0.0083 - accuracy: 1.0000 - val_loss: 0.1241 - val_accuracy: 0.9426\n",
            "Epoch 31/32\n",
            "71/71 [==============================] - 32s 449ms/step - loss: 0.0090 - accuracy: 0.9996 - val_loss: 0.1581 - val_accuracy: 0.9426\n",
            "Epoch 32/32\n",
            "71/71 [==============================] - 32s 449ms/step - loss: 0.0084 - accuracy: 1.0000 - val_loss: 0.1867 - val_accuracy: 0.9508\n"
          ]
        },
        {
          "output_type": "execute_result",
          "data": {
            "text/plain": [
              "<keras.callbacks.History at 0x7f2a4f0c2690>"
            ]
          },
          "metadata": {},
          "execution_count": 50
        }
      ]
    },
    {
      "cell_type": "code",
      "source": [
        "model.evaluate(test)\n"
      ],
      "metadata": {
        "id": "fSqH31nuUi6o",
        "outputId": "ee45b433-c889-46ef-ef4c-df1da6f9dea7",
        "colab": {
          "base_uri": "https://localhost:8080/"
        }
      },
      "execution_count": 51,
      "outputs": [
        {
          "output_type": "stream",
          "name": "stdout",
          "text": [
            "19/19 [==============================] - 2s 93ms/step - loss: 0.0472 - accuracy: 0.9847\n"
          ]
        },
        {
          "output_type": "execute_result",
          "data": {
            "text/plain": [
              "[0.04720328003168106, 0.9847198724746704]"
            ]
          },
          "metadata": {},
          "execution_count": 51
        }
      ]
    },
    {
      "cell_type": "code",
      "source": [
        "y_train = np.concatenate([y for x, y in train], axis=0)\n",
        "y_train.shape"
      ],
      "metadata": {
        "id": "AiVB1y4SkWmi",
        "outputId": "fb9fe7d8-20bb-41e8-fca5-4a36a4893af5",
        "colab": {
          "base_uri": "https://localhost:8080/"
        }
      },
      "execution_count": 52,
      "outputs": [
        {
          "output_type": "execute_result",
          "data": {
            "text/plain": [
              "(2258, 5)"
            ]
          },
          "metadata": {},
          "execution_count": 52
        }
      ]
    },
    {
      "cell_type": "code",
      "source": [
        "Result=model.predict(train) "
      ],
      "metadata": {
        "colab": {
          "base_uri": "https://localhost:8080/"
        },
        "id": "X5ahyHorldDI",
        "outputId": "81363704-be39-48fa-caad-1432eebb82f7"
      },
      "execution_count": 53,
      "outputs": [
        {
          "output_type": "stream",
          "name": "stdout",
          "text": [
            "71/71 [==============================] - 8s 100ms/step\n"
          ]
        }
      ]
    },
    {
      "cell_type": "code",
      "source": [
        "Result.shape"
      ],
      "metadata": {
        "id": "_9qF7JfzP82A",
        "outputId": "141cf129-394d-433a-b0d8-50ae6f381f69",
        "colab": {
          "base_uri": "https://localhost:8080/"
        }
      },
      "execution_count": 54,
      "outputs": [
        {
          "output_type": "execute_result",
          "data": {
            "text/plain": [
              "(2258, 5)"
            ]
          },
          "metadata": {},
          "execution_count": 54
        }
      ]
    },
    {
      "cell_type": "code",
      "source": [
        "from sklearn.metrics import confusion_matrix,classification_report\n",
        "\n",
        "true_classes=y_train\n",
        "y_train_new=np.argmax(y_train,axis=1)\n",
        "Result_new=np.argmax(Result,axis=1)\n",
        "print('Confusion Matrix')\n",
        "cm=confusion_matrix(y_train_new,Result_new)\n",
        "cm"
      ],
      "metadata": {
        "colab": {
          "base_uri": "https://localhost:8080/"
        },
        "id": "xC2MeDYp5H1y",
        "outputId": "4230a4d0-d69c-4a89-fb89-c1e50fcca0af"
      },
      "execution_count": 55,
      "outputs": [
        {
          "output_type": "stream",
          "name": "stdout",
          "text": [
            "Confusion Matrix\n"
          ]
        },
        {
          "output_type": "execute_result",
          "data": {
            "text/plain": [
              "array([[ 16,  32,  37,  25,  40],\n",
              "       [ 28, 142, 119, 103, 154],\n",
              "       [ 40, 131, 135, 120, 128],\n",
              "       [ 36,  97, 119,  98, 107],\n",
              "       [ 30, 144, 144, 111, 122]])"
            ]
          },
          "metadata": {},
          "execution_count": 55
        }
      ]
    },
    {
      "cell_type": "code",
      "source": [
        "train.class_names"
      ],
      "metadata": {
        "id": "mDe0RkyvSbgV",
        "outputId": "2430aa7e-30af-470f-ed29-be468d3524e3",
        "colab": {
          "base_uri": "https://localhost:8080/"
        }
      },
      "execution_count": 56,
      "outputs": [
        {
          "output_type": "execute_result",
          "data": {
            "text/plain": [
              "['2S1', 'A64', 'BRDM_2', 'SLICY', 'ZSU_23_4']"
            ]
          },
          "metadata": {},
          "execution_count": 56
        }
      ]
    },
    {
      "cell_type": "code",
      "source": [
        "def plot_confusion_matrix(cm, classes, normalize=False, figsize=(12, 12), title='Confusion matrix', cmap=plt.cm.Blues):\n",
        "    \"\"\"\n",
        "    This function prints and plots the confusion matrix.\n",
        "    Normalization can be applied by setting `normalize=True`.\n",
        "    (This function is copied from the scikit docs.)\n",
        "    \"\"\"\n",
        "    plt.figure(figsize=figsize)\n",
        "    plt.imshow(cm, interpolation='nearest', cmap=cmap)\n",
        "    plt.title(title)\n",
        "    plt.colorbar()\n",
        "    tick_marks = np.arange(len(classes))\n",
        "    plt.xticks(tick_marks, classes, rotation=45)\n",
        "    plt.yticks(tick_marks, classes)\n",
        "\n",
        "    if normalize: cm = cm.astype('float') / cm.sum(axis=1)[:, np.newaxis]\n",
        "    print(cm)\n",
        "    thresh = cm.max() / 2.\n",
        "    for i, j in itertools.product(range(cm.shape[0]), range(cm.shape[1])):\n",
        "        annot = \"%.2f\" % cm[i, j] if cm[i, j] > 0 else \"\" \n",
        "        plt.text(j, i, annot, horizontalalignment=\"center\", color=\"white\" if cm[i, j] > thresh else \"black\")\n",
        "\n",
        "    plt.tight_layout()\n",
        "    plt.ylabel('True label')\n",
        "    plt.xlabel('Predicted label')\n"
      ],
      "metadata": {
        "id": "uagDk4EmT9ZK"
      },
      "execution_count": 57,
      "outputs": []
    },
    {
      "cell_type": "code",
      "source": [
        "import itertools"
      ],
      "metadata": {
        "id": "RchzYQFhUVqC"
      },
      "execution_count": 58,
      "outputs": []
    },
    {
      "cell_type": "code",
      "source": [
        "plot_confusion_matrix(cm, train.class_names, normalize=True, figsize=(4, 4))\n"
      ],
      "metadata": {
        "colab": {
          "base_uri": "https://localhost:8080/",
          "height": 382
        },
        "id": "9WeNi8Aj5R9H",
        "outputId": "5aa4d6ff-78ff-48d0-9027-fe57c39d5a98"
      },
      "execution_count": 59,
      "outputs": [
        {
          "output_type": "stream",
          "name": "stdout",
          "text": [
            "[[0.10666667 0.21333333 0.24666667 0.16666667 0.26666667]\n",
            " [0.05128205 0.26007326 0.21794872 0.18864469 0.28205128]\n",
            " [0.07220217 0.23646209 0.24368231 0.2166065  0.23104693]\n",
            " [0.07877462 0.21225383 0.26039387 0.21444201 0.23413567]\n",
            " [0.05444646 0.26134301 0.26134301 0.20145191 0.22141561]]\n"
          ]
        },
        {
          "output_type": "display_data",
          "data": {
            "text/plain": [
              "<Figure size 288x288 with 2 Axes>"
            ],
            "image/png": "[encoded data removed]"
          },
          "metadata": {
            "needs_background": "light"
          }
        }
      ]
    },
    {
      "cell_type": "code",
      "source": [],
      "metadata": {
        "id": "_l9Y1H_fSZfd"
      },
      "execution_count": 59,
      "outputs": []
    }
  ]
}